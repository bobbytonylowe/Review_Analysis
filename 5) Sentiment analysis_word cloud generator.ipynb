{
 "cells": [
  {
   "cell_type": "markdown",
   "metadata": {},
   "source": [
    "## Sentiment Analysis - Word Clouds\n",
    "- In this workbook our objective was to analyse reviews where a specific word was mentioned\n",
    "- Each review was analysed for a specific word and flagged if that word had been mentioned in the review \n",
    "- For example if the word breakfast was mentioned, the review was flagged with a 1, so later those reviews can be grouped into a breakfast category\n",
    "- Our overall aim was to look at what words were associated with specific food categories in a hotel review\n",
    "- A word cloud was created for each review category, so we can observe the most frequently used words\n",
    "\n",
    "#### Process\n",
    "- 1) Clean reviews - Remove stop words, remove uppercase & remove non-letters\n",
    "- 2) Create word categories - Create a function that flags if a word has been mentioned in a review\n",
    "- 3) Filter each dataframe category - Here each negative and positive review was split into individual categories  \n",
    "- 4) Create a wordcloud for each individual text category"
   ]
  },
  {
   "cell_type": "code",
   "execution_count": 1,
   "metadata": {},
   "outputs": [],
   "source": [
    "import numpy as np\n",
    "import pandas as pd \n",
    "import warnings\n",
    "import matplotlib.pyplot as plt\n",
    "import seaborn as sns\n",
    "import os\n",
    "import json\n",
    "import re\n",
    "from collections import Counter\n",
    "from collections import defaultdict\n",
    "from nltk.stem import WordNetLemmatizer\n",
    "from nltk.corpus import stopwords \n",
    "import pandas as pd   \n",
    "from bs4 import BeautifulSoup             \n",
    "import re\n",
    "import nltk\n",
    "import wordcloud\n",
    "from os import path, getcwd\n",
    "from PIL import Image\n",
    "import numpy as np\n",
    "import matplotlib.pyplot as plt\n",
    "from wordcloud import WordCloud, ImageColorGenerator\n",
    "from nltk.tokenize import RegexpTokenizer\n",
    "import uuid\n",
    "from os.path import basename\n",
    "from datetime import datetime"
   ]
  },
  {
   "cell_type": "code",
   "execution_count": 2,
   "metadata": {},
   "outputs": [
    {
     "name": "stderr",
     "output_type": "stream",
     "text": [
      "[nltk_data] Downloading package stopwords to\n",
      "[nltk_data]     C:\\Users\\robert.lowe\\AppData\\Roaming\\nltk_data...\n",
      "[nltk_data]   Package stopwords is already up-to-date!\n"
     ]
    },
    {
     "data": {
      "text/plain": [
       "True"
      ]
     },
     "execution_count": 2,
     "metadata": {},
     "output_type": "execute_result"
    }
   ],
   "source": [
    "import nltk\n",
    "nltk.download('stopwords')"
   ]
  },
  {
   "cell_type": "code",
   "execution_count": 48,
   "metadata": {},
   "outputs": [],
   "source": [
    "# Open negative and positive reviews\n",
    "neg = pd.read_csv('Negative words only.csv')\n",
    "pos= pd.read_csv('Positive words only.csv')"
   ]
  },
  {
   "cell_type": "code",
   "execution_count": 50,
   "metadata": {},
   "outputs": [
    {
     "name": "stdout",
     "output_type": "stream",
     "text": [
      "<class 'pandas.core.frame.DataFrame'>\n",
      "RangeIndex: 122825 entries, 0 to 122824\n",
      "Data columns (total 2 columns):\n",
      "Rating             122825 non-null int64\n",
      "Negative review    122799 non-null object\n",
      "dtypes: int64(1), object(1)\n",
      "memory usage: 1.9+ MB\n"
     ]
    }
   ],
   "source": [
    "neg.info()"
   ]
  },
  {
   "cell_type": "code",
   "execution_count": 55,
   "metadata": {},
   "outputs": [
    {
     "data": {
      "text/html": [
       "<div>\n",
       "<style scoped>\n",
       "    .dataframe tbody tr th:only-of-type {\n",
       "        vertical-align: middle;\n",
       "    }\n",
       "\n",
       "    .dataframe tbody tr th {\n",
       "        vertical-align: top;\n",
       "    }\n",
       "\n",
       "    .dataframe thead th {\n",
       "        text-align: right;\n",
       "    }\n",
       "</style>\n",
       "<table border=\"1\" class=\"dataframe\">\n",
       "  <thead>\n",
       "    <tr style=\"text-align: right;\">\n",
       "      <th></th>\n",
       "      <th>Negative review</th>\n",
       "    </tr>\n",
       "  </thead>\n",
       "  <tbody>\n",
       "    <tr>\n",
       "      <th>0</th>\n",
       "      <td>:  o sofÃ¡ cama nÃ£o Ã© muito confortÃ¡vel.</td>\n",
       "    </tr>\n",
       "    <tr>\n",
       "      <th>1</th>\n",
       "      <td>:   not really unhappy about anything!</td>\n",
       "    </tr>\n",
       "    <tr>\n",
       "      <th>2</th>\n",
       "      <td>:   just to add pancakes at breakfast!!</td>\n",
       "    </tr>\n",
       "    <tr>\n",
       "      <th>3</th>\n",
       "      <td>:   restaurant food prices way too expensive. ...</td>\n",
       "    </tr>\n",
       "    <tr>\n",
       "      <th>4</th>\n",
       "      <td>:  \u001abooked a twin room but only had double whi...</td>\n",
       "    </tr>\n",
       "  </tbody>\n",
       "</table>\n",
       "</div>"
      ],
      "text/plain": [
       "                                     Negative review\n",
       "0        :  o sofÃ¡ cama nÃ£o Ã© muito confortÃ¡vel.\n",
       "1             :   not really unhappy about anything!\n",
       "2            :   just to add pancakes at breakfast!!\n",
       "3  :   restaurant food prices way too expensive. ...\n",
       "4  :  \u001abooked a twin room but only had double whi..."
      ]
     },
     "execution_count": 55,
     "metadata": {},
     "output_type": "execute_result"
    }
   ],
   "source": [
    "neg[['Negative review']].head()"
   ]
  },
  {
   "cell_type": "code",
   "execution_count": 4,
   "metadata": {},
   "outputs": [],
   "source": [
    "# Change astype to string (so you can apply the clean_review function)\n",
    "neg['Negative review'] = neg['Negative review'].astype(np.str)\n",
    "pos['Positive'] = pos['Positive'].astype(np.str)"
   ]
  },
  {
   "cell_type": "markdown",
   "metadata": {},
   "source": [
    "________________________________________________________________________________________________________________\n",
    "\n",
    "### 1) Clean reviews - remove stopwords, remove uppercase & remove non-letters\n",
    "\n",
    "________________________________________________________________________________________________________________"
   ]
  },
  {
   "cell_type": "code",
   "execution_count": 5,
   "metadata": {},
   "outputs": [],
   "source": [
    "def clean_review( raw_review ):\n",
    "    # Function to convert a raw review to a string of words\n",
    "    #\n",
    "    # 1. Remove HTML\n",
    "    review_text = BeautifulSoup(raw_review).get_text() \n",
    "    #\n",
    "    # 2. Remove non-letters        \n",
    "    letters_only = re.sub(\"[^a-zA-Z]\", \" \", review_text) \n",
    "    #\n",
    "    # 3. Convert to lower case, split into individual words\n",
    "    words = letters_only.lower().split()                                             \n",
    "    #\n",
    "    # 4. In Python, searching a set is much faster than searching\n",
    "    #   a list, so convert the stop words to a set\n",
    "    stops = set(stopwords.words(\"english\"))                  \n",
    "    # \n",
    "    # 5. Remove stop words\n",
    "    meaningful_words = [w for w in words if not w in stops]   \n",
    "    #\n",
    "    # 6. Join the words back into one string separated by space, \n",
    "    # and return the result.\n",
    "    return( \" \".join( meaningful_words ))"
   ]
  },
  {
   "cell_type": "code",
   "execution_count": null,
   "metadata": {},
   "outputs": [],
   "source": [
    "# Apply clean_review function on each review\n",
    "neg['Negative review'] = neg['Negative review'].apply(clean_review)\n",
    "pos['Positive'] = pos.Positive.apply(clean_review)"
   ]
  },
  {
   "cell_type": "code",
   "execution_count": 8,
   "metadata": {},
   "outputs": [
    {
     "name": "stdout",
     "output_type": "stream",
     "text": [
      "<class 'pandas.core.frame.DataFrame'>\n",
      "RangeIndex: 122825 entries, 0 to 122824\n",
      "Data columns (total 2 columns):\n",
      "Rating             122825 non-null int64\n",
      "Negative review    122825 non-null object\n",
      "dtypes: int64(1), object(1)\n",
      "memory usage: 1.9+ MB\n"
     ]
    }
   ],
   "source": [
    "neg.info()"
   ]
  },
  {
   "cell_type": "code",
   "execution_count": 9,
   "metadata": {},
   "outputs": [
    {
     "name": "stdout",
     "output_type": "stream",
     "text": [
      "<class 'pandas.core.frame.DataFrame'>\n",
      "RangeIndex: 122825 entries, 0 to 122824\n",
      "Data columns (total 2 columns):\n",
      "Rating      122825 non-null int64\n",
      "Positive    122825 non-null object\n",
      "dtypes: int64(1), object(1)\n",
      "memory usage: 1.9+ MB\n"
     ]
    }
   ],
   "source": [
    "pos.info()"
   ]
  },
  {
   "cell_type": "markdown",
   "metadata": {},
   "source": [
    "__________________________________________________________________________________________________________________________________________\n",
    "\n",
    "\n",
    "### 2) Create word categories\n",
    "- Create a number of functions that flags if a word has been mentioned in a review\n",
    "__________________________________________________________________________________________________________________________________________"
   ]
  },
  {
   "cell_type": "code",
   "execution_count": 10,
   "metadata": {},
   "outputs": [],
   "source": [
    "def Food(str):\n",
    "    words = str.split()\n",
    "    counts = 0\n",
    "    for word in words:\n",
    "        if word == 'food':\n",
    "            counts += 1\n",
    "        else:\n",
    "            counts == 0\n",
    "    return counts "
   ]
  },
  {
   "cell_type": "code",
   "execution_count": 11,
   "metadata": {},
   "outputs": [],
   "source": [
    "def breakfast(str):\n",
    "    words = str.split()\n",
    "    counts = 0\n",
    "    for word in words:\n",
    "        if word == 'breakfast' or word == 'breakfasts':\n",
    "            counts += 1\n",
    "        else:\n",
    "            counts == 0\n",
    "    return counts "
   ]
  },
  {
   "cell_type": "code",
   "execution_count": 12,
   "metadata": {},
   "outputs": [],
   "source": [
    "def diet(str):\n",
    "    words = str.split()\n",
    "    counts = 0\n",
    "    for word in words:\n",
    "        if  word == 'vegetarians' or word == 'vegan'  or word == 'vegans' or word == 'vegetarian':\n",
    "            counts += 1\n",
    "        else:\n",
    "            counts == 0\n",
    "    return counts "
   ]
  },
  {
   "cell_type": "code",
   "execution_count": 13,
   "metadata": {},
   "outputs": [],
   "source": [
    "def buffet(str):\n",
    "    words = str.split()\n",
    "    counts = 0\n",
    "    for word in words:\n",
    "        if  word == 'buffet':\n",
    "            counts += 1\n",
    "        else:\n",
    "            counts == 0\n",
    "    return counts "
   ]
  },
  {
   "cell_type": "code",
   "execution_count": 14,
   "metadata": {},
   "outputs": [],
   "source": [
    "def restaurant(str):\n",
    "    words = str.split()\n",
    "    counts = 0\n",
    "    for word in words:\n",
    "        if  word == 'restaurant' or word =='restaurants':\n",
    "            counts += 1\n",
    "        else:\n",
    "            counts == 0\n",
    "    return counts "
   ]
  },
  {
   "cell_type": "code",
   "execution_count": 15,
   "metadata": {},
   "outputs": [],
   "source": [
    "def coffee_tea(str):\n",
    "    words = str.split()\n",
    "    counts = 0\n",
    "    for word in words:\n",
    "        if word =='coffee'or word =='tea':\n",
    "            counts += 1\n",
    "        else:\n",
    "            counts == 0\n",
    "    return counts "
   ]
  },
  {
   "cell_type": "code",
   "execution_count": 16,
   "metadata": {},
   "outputs": [],
   "source": [
    "def menu(str):\n",
    "    words = str.split()\n",
    "    counts = 0\n",
    "    for word in words:\n",
    "        if word =='menu':\n",
    "            counts += 1\n",
    "        else:\n",
    "            counts == 0\n",
    "    return counts "
   ]
  },
  {
   "cell_type": "code",
   "execution_count": 17,
   "metadata": {},
   "outputs": [],
   "source": [
    "def breakfast_components(str):\n",
    "    words = str.split()\n",
    "    counts = 0\n",
    "    for word in words:\n",
    "        if  word =='bacon'or word =='egg'or word =='toast'or word =='eggs'or word =='juice'or word =='sausages'or word =='scrambled'or word =='milk'or word =='fruit'or word =='croissants' or word =='beans'or word =='mushrooms'or word =='sausage'or word =='tomatoes':\n",
    "\n",
    "            counts += 1\n",
    "        else:\n",
    "            counts == 0\n",
    "    return counts "
   ]
  },
  {
   "cell_type": "code",
   "execution_count": 18,
   "metadata": {},
   "outputs": [],
   "source": [
    "def cooked(str):\n",
    "    words = str.split()\n",
    "    counts = 0\n",
    "    for word in words:\n",
    "        if   word =='cooked' or word ==  'uncooked':\n",
    "\n",
    "            counts += 1\n",
    "        else:\n",
    "            counts == 0\n",
    "    return counts "
   ]
  },
  {
   "cell_type": "code",
   "execution_count": 19,
   "metadata": {},
   "outputs": [],
   "source": [
    "def plates_cups(str):\n",
    "    words = str.split()\n",
    "    counts = 0\n",
    "    for word in words:\n",
    "        if  word =='plates'  or word =='cups':\n",
    "\n",
    "            counts += 1\n",
    "        else:\n",
    "            counts == 0\n",
    "    return counts "
   ]
  },
  {
   "cell_type": "code",
   "execution_count": 20,
   "metadata": {},
   "outputs": [],
   "source": [
    "def eating(str):\n",
    "    words = str.split()\n",
    "    counts = 0\n",
    "    for word in words:\n",
    "        \n",
    "        if word =='eating':\n",
    "            counts += 1\n",
    "        else:\n",
    "            counts == 0\n",
    "    return counts "
   ]
  },
  {
   "cell_type": "code",
   "execution_count": 21,
   "metadata": {},
   "outputs": [],
   "source": [
    "def choices(str):\n",
    "    words = str.split()\n",
    "    counts = 0\n",
    "    for word in words:\n",
    "        if word =='choice' or word =='choices':\n",
    "            counts += 1\n",
    "        else:\n",
    "            counts == 0\n",
    "    return counts "
   ]
  },
  {
   "cell_type": "markdown",
   "metadata": {},
   "source": [
    "### Apply each function on the negative and positive reviews"
   ]
  },
  {
   "cell_type": "code",
   "execution_count": 22,
   "metadata": {},
   "outputs": [],
   "source": [
    "neg['Neg_Food'] = neg['Negative review'].apply(Food)\n",
    "neg['Neg_Choices'] = neg['Negative review'].apply(choices)\n",
    "neg['Neg_eating'] = neg['Negative review'].apply(eating)\n",
    "neg['Neg_plates_cups'] = neg['Negative review'].apply(plates_cups)\n",
    "neg['Neg_cooked'] = neg['Negative review'].apply(cooked)\n",
    "neg['Neg_breakfast_components'] = neg['Negative review'].apply(breakfast_components)\n",
    "neg['Neg_menu'] = neg['Negative review'].apply(menu)\n",
    "neg['Neg_coffee_tea'] = neg['Negative review'].apply(coffee_tea)\n",
    "neg['Neg_restaurant'] = neg['Negative review'].apply(restaurant)\n",
    "neg['Neg_buffet'] = neg['Negative review'].apply(buffet)\n",
    "neg['Neg_diet'] = neg['Negative review'].apply(diet)\n",
    "neg['Neg_breakfast'] = neg['Negative review'].apply(breakfast)"
   ]
  },
  {
   "cell_type": "code",
   "execution_count": 23,
   "metadata": {},
   "outputs": [],
   "source": [
    "pos['Pos_Food'] = pos['Positive'].apply(Food)\n",
    "pos['Pos_Choices'] = pos['Positive'].apply(choices)\n",
    "pos['Pos_eating'] = pos['Positive'].apply(eating)\n",
    "pos['Pos_plates_cups'] = pos['Positive'].apply(plates_cups)\n",
    "pos['Pos_cooked'] = pos['Positive'].apply(cooked)\n",
    "pos['Pos_breakfast_components'] = pos['Positive'].apply(breakfast_components)\n",
    "pos['Pos_menu'] = pos['Positive'].apply(menu)\n",
    "pos['Pos_coffee_tea'] = pos['Positive'].apply(coffee_tea)\n",
    "pos['Pos_restaurant'] = pos['Positive'].apply(restaurant)\n",
    "pos['Pos_buffet'] = pos['Positive'].apply(buffet)\n",
    "pos['Pos_diet'] = pos['Positive'].apply(diet)\n",
    "pos['Pos_breakfast'] = pos['Positive'].apply(breakfast)"
   ]
  },
  {
   "cell_type": "markdown",
   "metadata": {},
   "source": [
    "____________________________________________________________________________________________________________________________________\n",
    "\n",
    "\n",
    "#### For this specific case we only need a binary field, as we just want to look at the reviews where each category has been mentioned\n",
    "\n",
    "____________________________________________________________________________________________________________________________________"
   ]
  },
  {
   "cell_type": "code",
   "execution_count": 25,
   "metadata": {},
   "outputs": [],
   "source": [
    "pos.loc[:, 'Pos_Food': 'Pos_breakfast'] = np.where(((pos.loc[:, 'Pos_Food': 'Pos_breakfast'] >= 1)), 1, 0)\n",
    "neg.loc[:, 'Neg_Food': 'Neg_breakfast'] = np.where(((neg.loc[:, 'Neg_Food': 'Neg_breakfast'] >= 1)), 1, 0)"
   ]
  },
  {
   "cell_type": "code",
   "execution_count": 27,
   "metadata": {},
   "outputs": [],
   "source": [
    "# Rating was replaced to 0, so everything can be grouped to one item\n",
    "pos.Rating = pos.Rating.replace(1,0)\n",
    "neg.Rating = neg.Rating.replace(1,0)"
   ]
  },
  {
   "cell_type": "code",
   "execution_count": 28,
   "metadata": {},
   "outputs": [
    {
     "name": "stdout",
     "output_type": "stream",
     "text": [
      "<class 'pandas.core.frame.DataFrame'>\n",
      "RangeIndex: 122825 entries, 0 to 122824\n",
      "Data columns (total 14 columns):\n",
      "Rating                      122825 non-null int64\n",
      "Positive                    122825 non-null object\n",
      "Pos_Food                    122825 non-null int64\n",
      "Pos_Choices                 122825 non-null int64\n",
      "Pos_eating                  122825 non-null int64\n",
      "Pos_plates_cups             122825 non-null int64\n",
      "Pos_cooked                  122825 non-null int64\n",
      "Pos_breakfast_components    122825 non-null int64\n",
      "Pos_menu                    122825 non-null int64\n",
      "Pos_coffee_tea              122825 non-null int64\n",
      "Pos_restaurant              122825 non-null int64\n",
      "Pos_buffet                  122825 non-null int64\n",
      "Pos_diet                    122825 non-null int64\n",
      "Pos_breakfast               122825 non-null int64\n",
      "dtypes: int64(13), object(1)\n",
      "memory usage: 13.1+ MB\n"
     ]
    }
   ],
   "source": [
    "pos.info()"
   ]
  },
  {
   "cell_type": "code",
   "execution_count": 29,
   "metadata": {},
   "outputs": [],
   "source": [
    "pos.Positive = pos.Positive.astype(np.str)"
   ]
  },
  {
   "cell_type": "markdown",
   "metadata": {},
   "source": [
    "________________________________________________________________________________________________________________________\n",
    "\n",
    "### 3) Filter each dataframe category\n",
    "\n",
    "________________________________________________________________________________________________________________________"
   ]
  },
  {
   "cell_type": "code",
   "execution_count": 30,
   "metadata": {},
   "outputs": [],
   "source": [
    "# filter data to only reviews which have been flagged for that category\n",
    "# E.g. Pos_Food  == 1 will just be reviews that people have mentioned the word food in a positive review \n",
    "\n",
    "Pos_Food = pos[pos['Pos_Food'] == 1]\n",
    "Pos_Choices = pos[pos['Pos_Choices'] == 1]\n",
    "Pos_eating = pos[pos['Pos_eating'] == 1]\n",
    "Pos_plates_cups  = pos[pos['Pos_plates_cups'] == 1]\n",
    "Pos_cooked = pos[pos['Pos_cooked'] == 1]\n",
    "Pos_breakfast_components = pos[pos['Pos_breakfast_components'] == 1]\n",
    "Pos_menu = pos[pos['Pos_menu'] == 1]\n",
    "Pos_coffee_tea = pos[pos['Pos_coffee_tea'] == 1]\n",
    "Pos_restaurant  = pos[pos['Pos_restaurant'] == 1]\n",
    "Pos_buffet = pos[pos['Pos_buffet'] == 1]\n",
    "Pos_diet = pos[pos['Pos_diet'] == 1]\n",
    "Pos_breakfast = pos[pos['Pos_breakfast'] == 1]"
   ]
  },
  {
   "cell_type": "code",
   "execution_count": 31,
   "metadata": {},
   "outputs": [],
   "source": [
    "# join all text together so we can create a wordcloud for the whole review for each category\n",
    "def pos_text(df):\n",
    "    \n",
    "    \"\"\" A function that joins all text into one column\"\"\"\n",
    "    \n",
    "    pos = df.groupby(['Rating'])['Positive'].apply(' '.join)\n",
    "    pos = pos.reset_index()\n",
    "    return pos['Positive']"
   ]
  },
  {
   "cell_type": "code",
   "execution_count": 54,
   "metadata": {},
   "outputs": [
    {
     "data": {
      "text/plain": [
       "0    positive location perfect mins walk high st sh...\n",
       "Name: Positive, dtype: object"
      ]
     },
     "execution_count": 54,
     "metadata": {},
     "output_type": "execute_result"
    }
   ],
   "source": [
    "# example for the above function\n",
    "pos_text(Pos_Food)"
   ]
  },
  {
   "cell_type": "code",
   "execution_count": 32,
   "metadata": {},
   "outputs": [],
   "source": [
    "# function to create an excel file with multiple sheets\n",
    "def dfs_tabs(df_list, sheet_list, file_name):\n",
    "    \n",
    "    '''function to create an excel file with multiple sheets '''\n",
    "    \n",
    "    writer = pd.ExcelWriter(file_name,engine='xlsxwriter')   \n",
    "\n",
    "    for dataframe, sheet in zip(df_list, sheet_list):\n",
    "        dataframe.to_excel(writer, sheet_name=sheet, startrow=0 , startcol=0)   \n",
    "        \n",
    "    writer.save()"
   ]
  },
  {
   "cell_type": "code",
   "execution_count": 33,
   "metadata": {},
   "outputs": [],
   "source": [
    "#List the dataframes variabes \n",
    "dfs = [Pos_Food, Pos_Choices,Pos_eating, Pos_plates_cups,  Pos_cooked ,Pos_breakfast_components ,Pos_menu ,\n",
    " Pos_coffee_tea ,Pos_restaurant, Pos_buffet ,Pos_diet,Pos_breakfast]\n",
    "\n",
    "#name for each sheet of the excel file\n",
    "names = ['Pos_Food', 'Pos_Choices','Pos_eating', 'Pos_plates_cups',  'Pos_cooked' ,'Pos_breakfast_components' ,'Pos_menu' ,\n",
    " 'Pos_coffee_tea' ,'Pos_restaurant', 'Pos_buffet' ,'Pos_diet','Pos_breakfast']\n",
    "\n",
    "#List comprehension to create a joined text for each category dataframe\n",
    "dfs = [pos_text(x) for x in dfs]\n",
    "\n",
    "#Perform the multiple excel sheet function on the selected dataframes\n",
    "dfs_tabs(dfs, names, 'pos_food_reviews_2.xlsx')"
   ]
  },
  {
   "cell_type": "markdown",
   "metadata": {},
   "source": [
    "________________________________________________________________________________\n",
    "\n",
    "\n",
    "#### repeat for all negative review categories\n",
    "\n",
    "\n",
    "________________________________________________________________________________"
   ]
  },
  {
   "cell_type": "code",
   "execution_count": 38,
   "metadata": {},
   "outputs": [],
   "source": [
    "Neg_Food = neg[neg['Neg_Food'] == 1]\n",
    "Neg_Choices = neg[neg['Neg_Choices'] == 1]\n",
    "Neg_eating = neg[neg['Neg_eating'] == 1]\n",
    "Neg_plates_cups  = neg[neg['Neg_plates_cups'] == 1]\n",
    "Neg_cooked = neg[neg['Neg_cooked'] == 1]\n",
    "Neg_breakfast_components = neg[neg['Neg_breakfast_components'] == 1]\n",
    "Neg_menu = neg[neg['Neg_menu'] == 1]\n",
    "Neg_coffee_tea = neg[neg['Neg_coffee_tea'] == 1]\n",
    "Neg_restaurant  = neg[neg['Neg_restaurant'] == 1]\n",
    "Neg_buffet = neg[neg['Neg_buffet'] == 1]\n",
    "Neg_diet = neg[neg['Neg_diet'] == 1]\n",
    "Neg_breakfast = neg[neg['Neg_breakfast'] == 1]\n"
   ]
  },
  {
   "cell_type": "code",
   "execution_count": 39,
   "metadata": {},
   "outputs": [],
   "source": [
    "def Neg_text(df):\n",
    "    neg = df.groupby(['Rating'])['Negative review'].apply(' '.join)\n",
    "\n",
    "    neg = neg.reset_index()\n",
    "    return neg['Negative review']"
   ]
  },
  {
   "cell_type": "code",
   "execution_count": 40,
   "metadata": {},
   "outputs": [],
   "source": [
    "# function to create an excel file with multiple sheets\n",
    "def dfs_tabs(df_list, sheet_list, file_name):\n",
    "    \n",
    "    '''function to create an excel file with multiple sheets '''\n",
    "    \n",
    "    writer = pd.ExcelWriter(file_name,engine='xlsxwriter')   \n",
    "\n",
    "    for dataframe, sheet in zip(df_list, sheet_list):\n",
    "        dataframe.to_excel(writer, sheet_name=sheet, startrow=0 , startcol=0)   \n",
    "        \n",
    "    writer.save()"
   ]
  },
  {
   "cell_type": "code",
   "execution_count": 41,
   "metadata": {},
   "outputs": [],
   "source": [
    "#List the Independent variabes (this can also be used as a list to name each sheet)\n",
    "dfs = [Neg_Food, Neg_Choices,Neg_eating, Neg_plates_cups,  Neg_cooked ,Neg_breakfast_components ,Neg_menu ,\n",
    " Neg_coffee_tea ,Neg_restaurant, Neg_buffet ,Neg_diet,Neg_breakfast]\n",
    "\n",
    "names = ['Neg_Food', 'Neg_Choices','Neg_eating', 'Neg_plates_cups',  'Neg_cooked' ,'Neg_breakfast_components' ,'Neg_menu' ,\n",
    " 'Neg_coffee_tea' ,'Neg_restaurant', 'Neg_buffet' ,'Neg_diet','Neg_breakfast']\n",
    "\n",
    "#List comprehension to create a list of dataframes created from the Kruskal function \n",
    "dfs = [Neg_text(x) for x in dfs]\n",
    "\n",
    "#Perform the multiple excel sheet function on the selected dataframes\n",
    "dfs_tabs(dfs, names, 'neg_food_reviews_2.xlsx')"
   ]
  },
  {
   "cell_type": "markdown",
   "metadata": {},
   "source": [
    "________________________________________________________________________________\n",
    "\n",
    "#### 4) Create a wordcloud for each individual text category\n",
    "\n",
    "________________________________________________________________________________"
   ]
  },
  {
   "cell_type": "code",
   "execution_count": 42,
   "metadata": {},
   "outputs": [],
   "source": [
    "def plot_word_cloud(text, icon):\n",
    "\n",
    "    #image saved - icon is the saved png image (normally a clipart image from google)\n",
    "    icon_path = \"%s.png\" % icon\n",
    "\n",
    "    # Shape\n",
    "    icon = Image.open(icon_path).convert(\"RGBA\")\n",
    "    mask = Image.new(\"RGB\", icon.size, (255,255,255))\n",
    "    mask.paste(icon,icon)\n",
    "    mask = np.array(mask)\n",
    "\n",
    "    # Word Cloud with colored mask\n",
    "    wc = WordCloud(background_color=\"white\", max_words=200, mask=mask, repeat=False,\n",
    "               max_font_size=300, stopwords=[\"holiday\", \"inn\", 'positive', 'hotel', 'room', 'great', 'excellent', 'good', 'nice', 'would', 'lovely', 'comfy'])\n",
    "\n",
    "    coloring = np.array(Image.open(icon_path))\n",
    "    image_colors = ImageColorGenerator(coloring)\n",
    "    image_colors.default_color = [0.6,0.6,0.6]\n",
    "\n",
    "    # Generate a word cloud\n",
    "    wc.generate(text)\n",
    "    \n",
    "    #save wordcloud - a random string is created for each saved wordcloud\n",
    "    save = \"%s.png\" % (str(uuid.uuid4())) \n",
    "    wc.to_file(save)\n",
    "    \n",
    "    #Visualize the word cloud\n",
    "    return wc.to_image()"
   ]
  },
  {
   "cell_type": "code",
   "execution_count": 36,
   "metadata": {},
   "outputs": [],
   "source": [
    "# Similar to function above - creates text field for each image and creates a wordcloud \n",
    "def word_cloud_neg(df):\n",
    "    \n",
    "    \"\"\" A function to join all text columns and create a word cloud \"\"\"\n",
    "    \n",
    "    neg = df.groupby(['Rating'])['Negative review'].apply(' '.join)\n",
    "    neg = neg.reset_index()\n",
    "    neg  = neg.iloc[0, 1]\n",
    "    return plot_word_cloud(neg, 'green-circle-hi')"
   ]
  },
  {
   "cell_type": "code",
   "execution_count": 46,
   "metadata": {},
   "outputs": [],
   "source": [
    "# List of category dataframes\n",
    "dfs = [Neg_Food, Neg_Choices,Neg_eating, Neg_plates_cups,  Neg_cooked ,Neg_breakfast_components ,Neg_menu ,\n",
    " Neg_coffee_tea ,Neg_restaurant, Neg_buffet ,Neg_diet,Neg_breakfast]\n",
    "\n",
    "# List comprehension to create a word cloud for each category dataframe\n",
    "wordclouds = [word_cloud_neg(x) for x in dfs]"
   ]
  },
  {
   "cell_type": "code",
   "execution_count": 43,
   "metadata": {},
   "outputs": [],
   "source": [
    "# Repeat process for positive reviews \n",
    "def word_cloud(df):\n",
    "    pos = df.groupby(['Rating'])['Positive'].apply(' '.join)\n",
    "    pos = pos.reset_index()\n",
    "    pos  = pos.iloc[0, 1]\n",
    "    return plot_word_cloud_jpg(pos, 'green-circle-hi')\n",
    "    "
   ]
  },
  {
   "cell_type": "code",
   "execution_count": 44,
   "metadata": {},
   "outputs": [],
   "source": [
    "# List of positive category dataframes\n",
    "dfs = [Pos_Food, Pos_Choices,Pos_eating, Pos_plates_cups,  Pos_cooked ,Pos_breakfast_components ,Pos_menu ,\n",
    " Pos_coffee_tea ,Pos_restaurant, Pos_buffet ,Pos_diet,Pos_breakfast]\n",
    "\n",
    "# List comprehension to create a word cloud for each positive category dataframe\n",
    "wordclouds = [word_cloud(x) for x in dfs]"
   ]
  }
 ],
 "metadata": {
  "kernelspec": {
   "display_name": "Python 3",
   "language": "python",
   "name": "python3"
  },
  "language_info": {
   "codemirror_mode": {
    "name": "ipython",
    "version": 3
   },
   "file_extension": ".py",
   "mimetype": "text/x-python",
   "name": "python",
   "nbconvert_exporter": "python",
   "pygments_lexer": "ipython3",
   "version": "3.7.1"
  }
 },
 "nbformat": 4,
 "nbformat_minor": 2
}
